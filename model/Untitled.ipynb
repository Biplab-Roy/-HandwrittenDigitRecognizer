{
 "cells": [
  {
   "cell_type": "code",
   "execution_count": 61,
   "metadata": {},
   "outputs": [],
   "source": [
    "from tensorflow.keras import Sequential, optimizers\n",
    "from tensorflow.keras.layers import Conv2D, MaxPooling2D, Flatten, Dense, Dropout\n",
    "from tensorflow.keras import backend as k\n",
    "from tensorflow.keras.datasets import mnist\n",
    "import numpy as np"
   ]
  },
  {
   "cell_type": "markdown",
   "metadata": {},
   "source": [
    "# Load Dataset"
   ]
  },
  {
   "cell_type": "code",
   "execution_count": 62,
   "metadata": {},
   "outputs": [],
   "source": [
    "(x_train, y_train), (x_test, y_test) = mnist.load_data()"
   ]
  },
  {
   "cell_type": "code",
   "execution_count": 63,
   "metadata": {},
   "outputs": [
    {
     "data": {
      "text/plain": [
       "numpy.ndarray"
      ]
     },
     "execution_count": 63,
     "metadata": {},
     "output_type": "execute_result"
    }
   ],
   "source": [
    "type(x_train)"
   ]
  },
  {
   "cell_type": "code",
   "execution_count": 64,
   "metadata": {},
   "outputs": [
    {
     "data": {
      "text/plain": [
       "((60000, 28, 28), (60000,), (10000, 28, 28), (10000,))"
      ]
     },
     "execution_count": 64,
     "metadata": {},
     "output_type": "execute_result"
    }
   ],
   "source": [
    "x_train.shape, y_train.shape, x_test.shape, y_test.shape"
   ]
  },
  {
   "cell_type": "markdown",
   "metadata": {},
   "source": [
    "# Processing Data"
   ]
  },
  {
   "cell_type": "code",
   "execution_count": 65,
   "metadata": {},
   "outputs": [],
   "source": [
    "def transformY(Y):\n",
    "    Z = np.zeros((len(Y),10))\n",
    "    for i in range(len(Y)):\n",
    "        Z[i][Y[i]] = 1\n",
    "    return Z"
   ]
  },
  {
   "cell_type": "code",
   "execution_count": 66,
   "metadata": {},
   "outputs": [],
   "source": [
    "y_train = transformY(y_train)\n",
    "y_test = transformY(y_test)"
   ]
  },
  {
   "cell_type": "code",
   "execution_count": 67,
   "metadata": {},
   "outputs": [],
   "source": [
    "x_train = x_train.reshape(len(x_train),28,28,1)\n",
    "x_test = x_test.reshape(len(x_test),28,28,1)\n"
   ]
  },
  {
   "cell_type": "code",
   "execution_count": 68,
   "metadata": {},
   "outputs": [],
   "source": [
    "x_train = x_train/255\n",
    "x_test = x_test/255"
   ]
  },
  {
   "cell_type": "markdown",
   "metadata": {},
   "source": [
    "# Train model"
   ]
  },
  {
   "cell_type": "code",
   "execution_count": 77,
   "metadata": {},
   "outputs": [],
   "source": [
    "model = Sequential()\n",
    "model.add(Conv2D(32, kernel_size = (3,3), activation = 'relu', input_shape = (28,28,1),kernel_initializer='he_uniform'))\n",
    "model.add(Conv2D(64, kernel_size = (3,3), activation = 'relu',kernel_initializer='he_uniform'))\n",
    "model.add(MaxPooling2D(pool_size = (2,2)))\n",
    "model.add(Dropout(0.20))\n",
    "model.add(Flatten())\n",
    "model.add(Dense(128, activation = 'relu',kernel_initializer='he_uniform'))\n",
    "model.add(Dense(10, activation = 'softmax'))"
   ]
  },
  {
   "cell_type": "code",
   "execution_count": 78,
   "metadata": {},
   "outputs": [
    {
     "name": "stdout",
     "output_type": "stream",
     "text": [
      "Train on 60000 samples\n",
      "Epoch 1/10\n",
      "60000/60000 [==============================] - 127s 2ms/sample - loss: 0.0351 - accuracy: 0.9881\n",
      "Epoch 2/10\n",
      "60000/60000 [==============================] - 126s 2ms/sample - loss: 0.0127 - accuracy: 0.9959\n",
      "Epoch 3/10\n",
      "60000/60000 [==============================] - 125s 2ms/sample - loss: 0.0092 - accuracy: 0.9970\n",
      "Epoch 4/10\n",
      "60000/60000 [==============================] - 126s 2ms/sample - loss: 0.0074 - accuracy: 0.9976\n",
      "Epoch 5/10\n",
      "60000/60000 [==============================] - 122s 2ms/sample - loss: 0.0060 - accuracy: 0.9980\n",
      "Epoch 6/10\n",
      "60000/60000 [==============================] - 124s 2ms/sample - loss: 0.0052 - accuracy: 0.9983\n",
      "Epoch 7/10\n",
      "60000/60000 [==============================] - 122s 2ms/sample - loss: 0.0043 - accuracy: 0.9986\n",
      "Epoch 8/10\n",
      "60000/60000 [==============================] - 122s 2ms/sample - loss: 0.0035 - accuracy: 0.9989\n",
      "Epoch 9/10\n",
      "60000/60000 [==============================] - 123s 2ms/sample - loss: 0.0032 - accuracy: 0.9990\n",
      "Epoch 10/10\n",
      "60000/60000 [==============================] - 122s 2ms/sample - loss: 0.0028 - accuracy: 0.9992\n"
     ]
    },
    {
     "data": {
      "text/plain": [
       "<tensorflow.python.keras.callbacks.History at 0x16380289608>"
      ]
     },
     "execution_count": 78,
     "metadata": {},
     "output_type": "execute_result"
    }
   ],
   "source": [
    "model.compile(optimizer=optimizers.SGD(lr=0.01, momentum=0.9),loss='binary_crossentropy',metrics=['accuracy'])\n",
    "model.fit(x_train, y_train, batch_size=32, epochs=10, verbose=1)"
   ]
  },
  {
   "cell_type": "code",
   "execution_count": 79,
   "metadata": {},
   "outputs": [
    {
     "name": "stdout",
     "output_type": "stream",
     "text": [
      "10000/10000 [==============================] - 6s 578us/sample - loss: 0.0054 - accuracy: 0.9981\n"
     ]
    },
    {
     "data": {
      "text/plain": [
       "[0.0054286053932415595, 0.9981299]"
      ]
     },
     "execution_count": 79,
     "metadata": {},
     "output_type": "execute_result"
    }
   ],
   "source": [
    "model.evaluate(x_test,y_test)"
   ]
  },
  {
   "cell_type": "code",
   "execution_count": 80,
   "metadata": {},
   "outputs": [],
   "source": [
    "json_f = model.to_json()\n",
    "with open(\"model.json\",\"w\") as json_file:\n",
    "    json_file.write(json_f)\n",
    "model.save_weights('model.h5')"
   ]
  },
  {
   "cell_type": "code",
   "execution_count": null,
   "metadata": {},
   "outputs": [],
   "source": []
  }
 ],
 "metadata": {
  "kernelspec": {
   "display_name": "Python 3",
   "language": "python",
   "name": "python3"
  },
  "language_info": {
   "codemirror_mode": {
    "name": "ipython",
    "version": 3
   },
   "file_extension": ".py",
   "mimetype": "text/x-python",
   "name": "python",
   "nbconvert_exporter": "python",
   "pygments_lexer": "ipython3",
   "version": "3.7.6"
  }
 },
 "nbformat": 4,
 "nbformat_minor": 4
}
